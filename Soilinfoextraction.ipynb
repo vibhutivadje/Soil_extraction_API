{
 "cells": [
  {
   "cell_type": "code",
   "execution_count": 2,
   "metadata": {},
   "outputs": [],
   "source": [
    "import json\n",
    "import requests\n",
    "import pandas as pd\n",
    "import xml.etree.ElementTree as EM\n",
    "import os"
   ]
  },
  {
   "cell_type": "code",
   "execution_count": 3,
   "metadata": {},
   "outputs": [
    {
     "name": "stdout",
     "output_type": "stream",
     "text": [
      "[795950, '86C3', 'il015']\n"
     ]
    }
   ],
   "source": [
    "lon = -89.8889\n",
    "lat = 42.0422\n",
    "\n",
    "def extractMUvariables(lat,lon):\n",
    "    \n",
    "    f =\"&lon=\"+ str(lon)+\"&lat=\"+ str(lat)\n",
    "    the_url = \"http://casoilresource.lawr.ucdavis.edu/soil_web/api/ssurgo.php?what=mapunit\"+ f\n",
    "    data=requests.get(the_url)\n",
    "    datacontent=json.loads(data.content)[0]\n",
    "    mukey=int(datacontent['mukey'])\n",
    "    musym=datacontent['musym']\n",
    "    areasymbol=datacontent['areasymbol']\n",
    "    return [mukey,musym,areasymbol]\n",
    "\n",
    "print(extractMUvariables(lat,lon))"
   ]
  },
  {
   "cell_type": "code",
   "execution_count": 4,
   "metadata": {},
   "outputs": [],
   "source": [
    "# Queries to import data from SURGO\n",
    "def SoilDataExtractor(mukey):\n",
    "    url=\"https://sdmdataaccess.nrcs.usda.gov/Tabular/SDMTabularService.asmx\"\n",
    "    #headers = {'content-type': 'application/soap+xml'}\n",
    "    headers = {'content-type': 'text/xml'}\n",
    "    body = \"\"\"<?xml version=\"1.0\" encoding=\"utf-8\"?>\n",
    "            <soap:Envelope xmlns:xsi=\"http://www.w3.org/2001/XMLSchema-instance\" xmlns:xsd=\"http://www.w3.org/2001/XMLSchema\" xmlns:soap=\"http://schemas.xmlsoap.org/soap/envelope/\">\n",
    "            <soap:Body>\n",
    "            <RunQuery xmlns=\"http://SDMDataAccess.nrcs.usda.gov/Tabular/SDMTabularService.asmx\">\n",
    "            <Query>\n",
    "            SELECT\n",
    "            saversion, saverest, -- attributes from table \"sacatalog\"\n",
    "            l.areasymbol, l.areaname, l.lkey, -- attributes from table \"legend\"\n",
    "            musym, muname, museq, mu.mukey, -- attributes from table \"mapunit\"\n",
    "            comppct_r, compname, slope_r, c.cokey, -- attributes from table \"component\"\n",
    "            hzdept_r, hzdepb_r, ch.chkey,sandtotal_r,silttotal_r,claytotal_r,om_r,dbthirdbar_r,ksat_r,awc_r,caco3_r,cec7_r,ec_r,ph1to1h2o_r -- attributes from table \"chorizon\"\n",
    "            FROM sacatalog sac\n",
    "             INNER JOIN legend l ON l.areasymbol = sac.areasymbol\n",
    "             INNER JOIN mapunit mu ON mu.lkey = l.lkey\n",
    "             AND mu.mukey IN\n",
    "             ('\"\"\"+str(mukey)+\"\"\"')\n",
    "             LEFT OUTER JOIN component c ON c.mukey = mu.mukey\n",
    "             LEFT OUTER JOIN chorizon ch ON ch.cokey = c.cokey \n",
    "             </Query>\n",
    "             </RunQuery>\n",
    "             </soap:Body>\n",
    "             </soap:Envelope>\"\"\"         \n",
    "    \n",
    "    # extract the post request response\n",
    "    response = requests.post(url,data = body,headers=headers)\n",
    "    ab=response.content\n",
    "    root=EM.fromstring(ab)\n",
    "\n",
    "    \"\"\"\n",
    "    ab=root.findall(\".//Table\")[0]\n",
    "    children=ab.getchildren\n",
    "    children.txt  \n",
    "    \"\"\"\n",
    "    abc={}\n",
    "    i=0\n",
    "    # Loop over all Table\n",
    "    for table in root.findall('.//Table'):\n",
    "        for child in table.getchildren():             # for each table get the children key e.g. soil attributes\n",
    "#             print(child.tag,child.text)                # for each children key get the value \n",
    "            if i==0:abc[child.tag]=[]\n",
    "            abc[child.tag].append(child.text)\n",
    "        i+=1\n",
    "    return abc\n"
   ]
  },
  {
   "cell_type": "code",
   "execution_count": 5,
   "metadata": {},
   "outputs": [
    {
     "name": "stderr",
     "output_type": "stream",
     "text": [
      "/Users/vibhutivadje/py3/lib/python3.7/site-packages/ipykernel_launcher.py:43: DeprecationWarning: This method will be removed in future versions.  Use 'list(elem)' or iteration over elem instead.\n"
     ]
    }
   ],
   "source": [
    "def main():\n",
    "    filename    ='SoilData_Surgo.csv'\n",
    "    lon = -89.8889\n",
    "    lat = 42.0422\n",
    "    [mukey,musym,areasymbol]=extractMUvariables(lat,lon)\n",
    "    dictionary  =SoilDataExtractor(mukey)\n",
    "    DatatoWrite =pd.DataFrame(dictionary)\n",
    "    Data        =DatatoWrite[DatatoWrite['comppct_r']==max(DatatoWrite['comppct_r'])]\n",
    "    Data.to_csv(filename,header=True,index=False)\n",
    "\n",
    "if __name__ == \"__main__\":\n",
    "    main()"
   ]
  },
  {
   "cell_type": "code",
   "execution_count": null,
   "metadata": {},
   "outputs": [],
   "source": []
  }
 ],
 "metadata": {
  "kernelspec": {
   "display_name": "Python 3",
   "language": "python",
   "name": "python3"
  },
  "language_info": {
   "codemirror_mode": {
    "name": "ipython",
    "version": 3
   },
   "file_extension": ".py",
   "mimetype": "text/x-python",
   "name": "python",
   "nbconvert_exporter": "python",
   "pygments_lexer": "ipython3",
   "version": "3.7.7"
  }
 },
 "nbformat": 4,
 "nbformat_minor": 2
}
