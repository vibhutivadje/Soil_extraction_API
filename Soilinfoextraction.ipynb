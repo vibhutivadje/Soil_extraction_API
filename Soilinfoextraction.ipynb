{
 "cells": [
  {
   "cell_type": "code",
   "execution_count": 2,
   "metadata": {},
   "outputs": [],
   "source": [
    "import json\n",
    "import requests\n",
    "import pandas as pd\n",
    "import xml.etree.ElementTree as EM\n",
    "import os"
   ]
  },
  {
   "cell_type": "code",
   "execution_count": 3,
   "metadata": {},
   "outputs": [
    {
     "name": "stdout",
     "output_type": "stream",
     "text": [
      "[795950, '86C3', 'il015']\n"
     ]
    }
   ],
   "source": [
    "lon = -89.8889\n",
    "lat = 42.0422\n",
    "\n",
    "def extractMUvariables(lat,lon):\n",
    "    \n",
    "    f =\"&lon=\"+ str(lon)+\"&lat=\"+ str(lat)\n",
    "    the_url = \"http://casoilresource.lawr.ucdavis.edu/soil_web/api/ssurgo.php?what=mapunit\"+ f\n",
    "    data=requests.get(the_url)\n",
    "    datacontent=json.loads(data.content)[0]\n",
    "    mukey=int(datacontent['mukey'])\n",
    "    musym=datacontent['musym']\n",
    "    areasymbol=datacontent['areasymbol']\n",
    "    return [mukey,musym,areasymbol]\n",
    "\n",
    "print(extractMUvariables(lat,lon))"
   ]
  },
  {
   "cell_type": "code",
   "execution_count": null,
   "metadata": {},
   "outputs": [],
   "source": []
  }
 ],
 "metadata": {
  "kernelspec": {
   "display_name": "Python 3",
   "language": "python",
   "name": "python3"
  },
  "language_info": {
   "codemirror_mode": {
    "name": "ipython",
    "version": 3
   },
   "file_extension": ".py",
   "mimetype": "text/x-python",
   "name": "python",
   "nbconvert_exporter": "python",
   "pygments_lexer": "ipython3",
   "version": "3.7.7"
  }
 },
 "nbformat": 4,
 "nbformat_minor": 2
}
